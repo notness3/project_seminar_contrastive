{
 "cells": [
  {
   "cell_type": "code",
   "execution_count": 37,
   "id": "b0b1f7fe",
   "metadata": {},
   "outputs": [],
   "source": [
    "import pandas as pd\n",
    "\n",
    "import numpy as np"
   ]
  },
  {
   "cell_type": "code",
   "execution_count": 181,
   "id": "5da27069",
   "metadata": {},
   "outputs": [],
   "source": [
    "df = pd.read_parquet('src/eval_1.parquet')"
   ]
  },
  {
   "cell_type": "code",
   "execution_count": 182,
   "id": "dfba1576",
   "metadata": {},
   "outputs": [
    {
     "data": {
      "text/html": [
       "<div>\n",
       "<style scoped>\n",
       "    .dataframe tbody tr th:only-of-type {\n",
       "        vertical-align: middle;\n",
       "    }\n",
       "\n",
       "    .dataframe tbody tr th {\n",
       "        vertical-align: top;\n",
       "    }\n",
       "\n",
       "    .dataframe thead th {\n",
       "        text-align: right;\n",
       "    }\n",
       "</style>\n",
       "<table border=\"1\" class=\"dataframe\">\n",
       "  <thead>\n",
       "    <tr style=\"text-align: right;\">\n",
       "      <th></th>\n",
       "      <th>label</th>\n",
       "      <th>video_name</th>\n",
       "      <th>embeddings</th>\n",
       "    </tr>\n",
       "  </thead>\n",
       "  <tbody>\n",
       "    <tr>\n",
       "      <th>0</th>\n",
       "      <td>7</td>\n",
       "      <td>354.mp4</td>\n",
       "      <td>[0.020576216, 0.032058235, 0.006353401, 0.0156...</td>\n",
       "    </tr>\n",
       "    <tr>\n",
       "      <th>1</th>\n",
       "      <td>0</td>\n",
       "      <td>385.mp4</td>\n",
       "      <td>[0.018505577, 0.029559724, 0.01046238, 0.02506...</td>\n",
       "    </tr>\n",
       "    <tr>\n",
       "      <th>2</th>\n",
       "      <td>5</td>\n",
       "      <td>35-30-1920x1080.mp4</td>\n",
       "      <td>[0.024414863, 0.023449918, 0.007398856, 0.0105...</td>\n",
       "    </tr>\n",
       "    <tr>\n",
       "      <th>3</th>\n",
       "      <td>5</td>\n",
       "      <td>9-15-1920x1080.mp4</td>\n",
       "      <td>[0.038196467, 0.035862006, 0.019434832, 0.0264...</td>\n",
       "    </tr>\n",
       "    <tr>\n",
       "      <th>4</th>\n",
       "      <td>0</td>\n",
       "      <td>video1.mp4</td>\n",
       "      <td>[0.0036152618, 0.03415381, 0.015950188, 0.0095...</td>\n",
       "    </tr>\n",
       "    <tr>\n",
       "      <th>...</th>\n",
       "      <td>...</td>\n",
       "      <td>...</td>\n",
       "      <td>...</td>\n",
       "    </tr>\n",
       "    <tr>\n",
       "      <th>10948</th>\n",
       "      <td>5</td>\n",
       "      <td>9-15-1920x1080.mp4</td>\n",
       "      <td>[0.030204969, 0.008421314, 0.029740935, 0.0172...</td>\n",
       "    </tr>\n",
       "    <tr>\n",
       "      <th>10949</th>\n",
       "      <td>0</td>\n",
       "      <td>112-30-640x360.mp4</td>\n",
       "      <td>[0.018451812, 0.02479466, 0.023763169, 0.00869...</td>\n",
       "    </tr>\n",
       "    <tr>\n",
       "      <th>10950</th>\n",
       "      <td>6</td>\n",
       "      <td>video73.mp4</td>\n",
       "      <td>[0.035598535, 0.013850466, 0.014966671, 0.0092...</td>\n",
       "    </tr>\n",
       "    <tr>\n",
       "      <th>10951</th>\n",
       "      <td>5</td>\n",
       "      <td>139-14-720x480.mp4</td>\n",
       "      <td>[0.0340978, 0.026391778, 0.010984744, 0.008984...</td>\n",
       "    </tr>\n",
       "    <tr>\n",
       "      <th>10952</th>\n",
       "      <td>4</td>\n",
       "      <td>87-25-1920x1080.mp4</td>\n",
       "      <td>[0.024429586, 0.02436761, 0.008529969, 0.01930...</td>\n",
       "    </tr>\n",
       "  </tbody>\n",
       "</table>\n",
       "<p>10953 rows × 3 columns</p>\n",
       "</div>"
      ],
      "text/plain": [
       "      label           video_name  \\\n",
       "0         7              354.mp4   \n",
       "1         0              385.mp4   \n",
       "2         5  35-30-1920x1080.mp4   \n",
       "3         5   9-15-1920x1080.mp4   \n",
       "4         0           video1.mp4   \n",
       "...     ...                  ...   \n",
       "10948     5   9-15-1920x1080.mp4   \n",
       "10949     0   112-30-640x360.mp4   \n",
       "10950     6          video73.mp4   \n",
       "10951     5   139-14-720x480.mp4   \n",
       "10952     4  87-25-1920x1080.mp4   \n",
       "\n",
       "                                              embeddings  \n",
       "0      [0.020576216, 0.032058235, 0.006353401, 0.0156...  \n",
       "1      [0.018505577, 0.029559724, 0.01046238, 0.02506...  \n",
       "2      [0.024414863, 0.023449918, 0.007398856, 0.0105...  \n",
       "3      [0.038196467, 0.035862006, 0.019434832, 0.0264...  \n",
       "4      [0.0036152618, 0.03415381, 0.015950188, 0.0095...  \n",
       "...                                                  ...  \n",
       "10948  [0.030204969, 0.008421314, 0.029740935, 0.0172...  \n",
       "10949  [0.018451812, 0.02479466, 0.023763169, 0.00869...  \n",
       "10950  [0.035598535, 0.013850466, 0.014966671, 0.0092...  \n",
       "10951  [0.0340978, 0.026391778, 0.010984744, 0.008984...  \n",
       "10952  [0.024429586, 0.02436761, 0.008529969, 0.01930...  \n",
       "\n",
       "[10953 rows x 3 columns]"
      ]
     },
     "execution_count": 182,
     "metadata": {},
     "output_type": "execute_result"
    }
   ],
   "source": [
    "df"
   ]
  },
  {
   "cell_type": "code",
   "execution_count": 183,
   "id": "f408a675",
   "metadata": {},
   "outputs": [],
   "source": [
    "df['label'] = df['label'].astype(int)"
   ]
  },
  {
   "cell_type": "code",
   "execution_count": 184,
   "id": "ee96376e",
   "metadata": {},
   "outputs": [
    {
     "data": {
      "text/html": [
       "<div>\n",
       "<style scoped>\n",
       "    .dataframe tbody tr th:only-of-type {\n",
       "        vertical-align: middle;\n",
       "    }\n",
       "\n",
       "    .dataframe tbody tr th {\n",
       "        vertical-align: top;\n",
       "    }\n",
       "\n",
       "    .dataframe thead th {\n",
       "        text-align: right;\n",
       "    }\n",
       "</style>\n",
       "<table border=\"1\" class=\"dataframe\">\n",
       "  <thead>\n",
       "    <tr style=\"text-align: right;\">\n",
       "      <th></th>\n",
       "      <th>embeddings</th>\n",
       "    </tr>\n",
       "    <tr>\n",
       "      <th>label</th>\n",
       "      <th></th>\n",
       "    </tr>\n",
       "  </thead>\n",
       "  <tbody>\n",
       "    <tr>\n",
       "      <th>0</th>\n",
       "      <td>2388</td>\n",
       "    </tr>\n",
       "    <tr>\n",
       "      <th>1</th>\n",
       "      <td>117</td>\n",
       "    </tr>\n",
       "    <tr>\n",
       "      <th>2</th>\n",
       "      <td>63</td>\n",
       "    </tr>\n",
       "    <tr>\n",
       "      <th>3</th>\n",
       "      <td>171</td>\n",
       "    </tr>\n",
       "    <tr>\n",
       "      <th>4</th>\n",
       "      <td>1497</td>\n",
       "    </tr>\n",
       "    <tr>\n",
       "      <th>5</th>\n",
       "      <td>4473</td>\n",
       "    </tr>\n",
       "    <tr>\n",
       "      <th>6</th>\n",
       "      <td>1340</td>\n",
       "    </tr>\n",
       "    <tr>\n",
       "      <th>7</th>\n",
       "      <td>904</td>\n",
       "    </tr>\n",
       "  </tbody>\n",
       "</table>\n",
       "</div>"
      ],
      "text/plain": [
       "       embeddings\n",
       "label            \n",
       "0            2388\n",
       "1             117\n",
       "2              63\n",
       "3             171\n",
       "4            1497\n",
       "5            4473\n",
       "6            1340\n",
       "7             904"
      ]
     },
     "execution_count": 184,
     "metadata": {},
     "output_type": "execute_result"
    }
   ],
   "source": [
    "df.groupby('label')['embeddings'].count().to_frame()"
   ]
  },
  {
   "cell_type": "code",
   "execution_count": 185,
   "id": "6afd2d80",
   "metadata": {},
   "outputs": [
    {
     "data": {
      "text/html": [
       "<div>\n",
       "<style scoped>\n",
       "    .dataframe tbody tr th:only-of-type {\n",
       "        vertical-align: middle;\n",
       "    }\n",
       "\n",
       "    .dataframe tbody tr th {\n",
       "        vertical-align: top;\n",
       "    }\n",
       "\n",
       "    .dataframe thead th {\n",
       "        text-align: right;\n",
       "    }\n",
       "</style>\n",
       "<table border=\"1\" class=\"dataframe\">\n",
       "  <thead>\n",
       "    <tr style=\"text-align: right;\">\n",
       "      <th></th>\n",
       "      <th>embeddings</th>\n",
       "    </tr>\n",
       "    <tr>\n",
       "      <th>video_name</th>\n",
       "      <th></th>\n",
       "    </tr>\n",
       "  </thead>\n",
       "  <tbody>\n",
       "    <tr>\n",
       "      <th>112-30-640x360.mp4</th>\n",
       "      <td>492</td>\n",
       "    </tr>\n",
       "    <tr>\n",
       "      <th>13-30-1920x1080.mp4</th>\n",
       "      <td>738</td>\n",
       "    </tr>\n",
       "    <tr>\n",
       "      <th>139-14-720x480.mp4</th>\n",
       "      <td>960</td>\n",
       "    </tr>\n",
       "    <tr>\n",
       "      <th>25-25-600x480.mp4</th>\n",
       "      <td>454</td>\n",
       "    </tr>\n",
       "    <tr>\n",
       "      <th>27-60-1280x720.mp4</th>\n",
       "      <td>40</td>\n",
       "    </tr>\n",
       "    <tr>\n",
       "      <th>28-30-1280x720-1.mp4</th>\n",
       "      <td>26</td>\n",
       "    </tr>\n",
       "    <tr>\n",
       "      <th>35-30-1920x1080.mp4</th>\n",
       "      <td>973</td>\n",
       "    </tr>\n",
       "    <tr>\n",
       "      <th>354.mp4</th>\n",
       "      <td>396</td>\n",
       "    </tr>\n",
       "    <tr>\n",
       "      <th>365.mp4</th>\n",
       "      <td>71</td>\n",
       "    </tr>\n",
       "    <tr>\n",
       "      <th>369.mp4</th>\n",
       "      <td>141</td>\n",
       "    </tr>\n",
       "    <tr>\n",
       "      <th>381.mp4</th>\n",
       "      <td>106</td>\n",
       "    </tr>\n",
       "    <tr>\n",
       "      <th>384.mp4</th>\n",
       "      <td>200</td>\n",
       "    </tr>\n",
       "    <tr>\n",
       "      <th>385.mp4</th>\n",
       "      <td>152</td>\n",
       "    </tr>\n",
       "    <tr>\n",
       "      <th>387.mp4</th>\n",
       "      <td>85</td>\n",
       "    </tr>\n",
       "    <tr>\n",
       "      <th>388.mp4</th>\n",
       "      <td>176</td>\n",
       "    </tr>\n",
       "    <tr>\n",
       "      <th>429.mp4</th>\n",
       "      <td>136</td>\n",
       "    </tr>\n",
       "    <tr>\n",
       "      <th>439.mp4</th>\n",
       "      <td>166</td>\n",
       "    </tr>\n",
       "    <tr>\n",
       "      <th>447.mp4</th>\n",
       "      <td>158</td>\n",
       "    </tr>\n",
       "    <tr>\n",
       "      <th>57-25-426x240.mp4</th>\n",
       "      <td>30</td>\n",
       "    </tr>\n",
       "    <tr>\n",
       "      <th>87-25-1920x1080.mp4</th>\n",
       "      <td>179</td>\n",
       "    </tr>\n",
       "    <tr>\n",
       "      <th>9-15-1920x1080.mp4</th>\n",
       "      <td>3397</td>\n",
       "    </tr>\n",
       "    <tr>\n",
       "      <th>video1.mp4</th>\n",
       "      <td>372</td>\n",
       "    </tr>\n",
       "    <tr>\n",
       "      <th>video2.mp4</th>\n",
       "      <td>51</td>\n",
       "    </tr>\n",
       "    <tr>\n",
       "      <th>video34.mp4</th>\n",
       "      <td>879</td>\n",
       "    </tr>\n",
       "    <tr>\n",
       "      <th>video73.mp4</th>\n",
       "      <td>575</td>\n",
       "    </tr>\n",
       "  </tbody>\n",
       "</table>\n",
       "</div>"
      ],
      "text/plain": [
       "                      embeddings\n",
       "video_name                      \n",
       "112-30-640x360.mp4           492\n",
       "13-30-1920x1080.mp4          738\n",
       "139-14-720x480.mp4           960\n",
       "25-25-600x480.mp4            454\n",
       "27-60-1280x720.mp4            40\n",
       "28-30-1280x720-1.mp4          26\n",
       "35-30-1920x1080.mp4          973\n",
       "354.mp4                      396\n",
       "365.mp4                       71\n",
       "369.mp4                      141\n",
       "381.mp4                      106\n",
       "384.mp4                      200\n",
       "385.mp4                      152\n",
       "387.mp4                       85\n",
       "388.mp4                      176\n",
       "429.mp4                      136\n",
       "439.mp4                      166\n",
       "447.mp4                      158\n",
       "57-25-426x240.mp4             30\n",
       "87-25-1920x1080.mp4          179\n",
       "9-15-1920x1080.mp4          3397\n",
       "video1.mp4                   372\n",
       "video2.mp4                    51\n",
       "video34.mp4                  879\n",
       "video73.mp4                  575"
      ]
     },
     "execution_count": 185,
     "metadata": {},
     "output_type": "execute_result"
    }
   ],
   "source": [
    "df.groupby('video_name')['embeddings'].count().to_frame()"
   ]
  },
  {
   "cell_type": "code",
   "execution_count": 186,
   "id": "6e7d18c6",
   "metadata": {},
   "outputs": [],
   "source": [
    "classes = {'Neutral': 0, 'Anger': 1, 'Disgust': 2, 'Fear': 3, 'Happiness': 4, 'Sadness': 5, 'Surprise': 6, 'Other': 7}"
   ]
  },
  {
   "cell_type": "code",
   "execution_count": 187,
   "id": "f20adec0",
   "metadata": {},
   "outputs": [],
   "source": [
    "classes_encoder = {value: key for key, value in classes.items()}"
   ]
  },
  {
   "cell_type": "code",
   "execution_count": 188,
   "id": "41d18d43",
   "metadata": {},
   "outputs": [
    {
     "data": {
      "text/plain": [
       "{0: 'Neutral',\n",
       " 1: 'Anger',\n",
       " 2: 'Disgust',\n",
       " 3: 'Fear',\n",
       " 4: 'Happiness',\n",
       " 5: 'Sadness',\n",
       " 6: 'Surprise',\n",
       " 7: 'Other'}"
      ]
     },
     "execution_count": 188,
     "metadata": {},
     "output_type": "execute_result"
    }
   ],
   "source": [
    "classes_encoder"
   ]
  },
  {
   "cell_type": "code",
   "execution_count": 189,
   "id": "d8ec1b9a",
   "metadata": {},
   "outputs": [],
   "source": [
    "df['label'] = df['label'].replace(classes_encoder)"
   ]
  },
  {
   "cell_type": "code",
   "execution_count": 190,
   "id": "2b4ce530",
   "metadata": {},
   "outputs": [],
   "source": [
    "def compute_similarity(df: pd.DataFrame):\n",
    "    a = np.array(df['embeddings'].to_list())\n",
    "    result_matrix = a @ a.T\n",
    "    \n",
    "    out = np.ones(result_matrix.shape,dtype=bool)\n",
    "    np.fill_diagonal(out,0)\n",
    "    \n",
    "    return result_matrix[out].mean()"
   ]
  },
  {
   "cell_type": "code",
   "execution_count": 191,
   "id": "c84d8401",
   "metadata": {},
   "outputs": [],
   "source": [
    "metric_dict = dict()\n",
    "\n",
    "for name, group in df.groupby('label'):\n",
    "    metric_dict[name] = compute_similarity(group)"
   ]
  },
  {
   "cell_type": "code",
   "execution_count": 192,
   "id": "0d4fd036",
   "metadata": {},
   "outputs": [
    {
     "data": {
      "text/plain": [
       "{'Anger': 0.95699054,\n",
       " 'Disgust': 0.96529,\n",
       " 'Fear': 0.9493797,\n",
       " 'Happiness': 0.96109277,\n",
       " 'Neutral': 0.95216036,\n",
       " 'Other': 0.96349365,\n",
       " 'Sadness': 0.9575271,\n",
       " 'Surprise': 0.9607543}"
      ]
     },
     "execution_count": 192,
     "metadata": {},
     "output_type": "execute_result"
    }
   ],
   "source": [
    "# class similarity\n",
    "metric_dict"
   ]
  },
  {
   "cell_type": "code",
   "execution_count": 193,
   "id": "079cd94c",
   "metadata": {},
   "outputs": [],
   "source": [
    "metric_video_dict = dict()\n",
    "\n",
    "for name, group in df.groupby('video_name'):\n",
    "    metric_video_dict[name] = compute_similarity(group)"
   ]
  },
  {
   "cell_type": "code",
   "execution_count": 194,
   "id": "9b05c989",
   "metadata": {},
   "outputs": [
    {
     "data": {
      "text/plain": [
       "{'112-30-640x360.mp4': 0.9534933,\n",
       " '13-30-1920x1080.mp4': 0.9709721,\n",
       " '139-14-720x480.mp4': 0.96161234,\n",
       " '25-25-600x480.mp4': 0.9682048,\n",
       " '27-60-1280x720.mp4': 0.98294723,\n",
       " '28-30-1280x720-1.mp4': 0.97934383,\n",
       " '35-30-1920x1080.mp4': 0.97858137,\n",
       " '354.mp4': 0.9802353,\n",
       " '365.mp4': 0.97840935,\n",
       " '369.mp4': 0.9880617,\n",
       " '381.mp4': 0.97164476,\n",
       " '384.mp4': 0.9702228,\n",
       " '385.mp4': 0.9888756,\n",
       " '387.mp4': 0.9775568,\n",
       " '388.mp4': 0.9663158,\n",
       " '429.mp4': 0.9819485,\n",
       " '439.mp4': 0.9778514,\n",
       " '447.mp4': 0.97611606,\n",
       " '57-25-426x240.mp4': 0.9935759,\n",
       " '87-25-1920x1080.mp4': 0.98089355,\n",
       " '9-15-1920x1080.mp4': 0.9557695,\n",
       " 'video1.mp4': 0.9585357,\n",
       " 'video2.mp4': 0.9645333,\n",
       " 'video34.mp4': 0.96703285,\n",
       " 'video73.mp4': 0.97197574}"
      ]
     },
     "execution_count": 194,
     "metadata": {},
     "output_type": "execute_result"
    }
   ],
   "source": [
    "# video similarity\n",
    "metric_video_dict"
   ]
  },
  {
   "cell_type": "code",
   "execution_count": 195,
   "id": "a891781a",
   "metadata": {},
   "outputs": [
    {
     "data": {
      "text/plain": [
       "0.9548542"
      ]
     },
     "execution_count": 195,
     "metadata": {},
     "output_type": "execute_result"
    }
   ],
   "source": [
    "# whole similarity\n",
    "compute_similarity(df)"
   ]
  },
  {
   "cell_type": "code",
   "execution_count": 196,
   "id": "f6a59d39",
   "metadata": {},
   "outputs": [
    {
     "data": {
      "text/plain": [
       "video_name\n",
       "9-15-1920x1080.mp4      63\n",
       "28-30-1280x720-1.mp4    25\n",
       "video73.mp4             17\n",
       "369.mp4                 10\n",
       "video34.mp4              1\n",
       "365.mp4                  1\n",
       "Name: count, dtype: int64"
      ]
     },
     "execution_count": 196,
     "metadata": {},
     "output_type": "execute_result"
    }
   ],
   "source": [
    "df[df['label']=='Anger']['video_name'].value_counts()"
   ]
  },
  {
   "cell_type": "code",
   "execution_count": 197,
   "id": "59314046",
   "metadata": {},
   "outputs": [],
   "source": [
    "neutral = df[(df['label']=='Happiness')]['embeddings'].to_list()"
   ]
  },
  {
   "cell_type": "code",
   "execution_count": 198,
   "id": "6db30b46",
   "metadata": {},
   "outputs": [],
   "source": [
    "anger = df[(df['label']=='Sadness')]['embeddings'].to_list()"
   ]
  },
  {
   "cell_type": "code",
   "execution_count": 199,
   "id": "3611dd3a",
   "metadata": {},
   "outputs": [],
   "source": [
    "#similarity between opposite emotions (neutral and anger)\n",
    "negative_score = (np.array(neutral) @ np.array(anger).T).reshape(len(neutral) * len(anger))"
   ]
  },
  {
   "cell_type": "code",
   "execution_count": 200,
   "id": "b10091ed",
   "metadata": {},
   "outputs": [],
   "source": [
    "def compute_similarity_vector(df: pd.DataFrame):\n",
    "    a = np.array(df['embeddings'].to_list())\n",
    "    result_matrix = a @ a.T\n",
    "    \n",
    "    out = np.ones(result_matrix.shape,dtype=bool)\n",
    "    np.fill_diagonal(out,0)\n",
    "    \n",
    "    return result_matrix[out]"
   ]
  },
  {
   "cell_type": "code",
   "execution_count": 201,
   "id": "240de7d0",
   "metadata": {},
   "outputs": [],
   "source": [
    "positive_score = compute_similarity_vector(df[(df['label']=='Happiness')])"
   ]
  },
  {
   "cell_type": "code",
   "execution_count": 202,
   "id": "9db341c7",
   "metadata": {},
   "outputs": [
    {
     "data": {
      "text/plain": [
       "<matplotlib.legend.Legend at 0x288f25dc0>"
      ]
     },
     "execution_count": 202,
     "metadata": {},
     "output_type": "execute_result"
    },
    {
     "data": {
      "image/png": "[encoded data removed]",
      "text/plain": [
       "<Figure size 640x480 with 1 Axes>"
      ]
     },
     "metadata": {},
     "output_type": "display_data"
    }
   ],
   "source": [
    "import matplotlib.pyplot as plt\n",
    "\n",
    "fig = plt.figure()\n",
    "ax = fig.add_subplot(111)\n",
    "_ = ax.hist(positive_score[:len(negative_score)], label='Similarity between happiness class', bins=50)\n",
    "_ = ax.hist(negative_score[:len(positive_score)], color='red', alpha=.3, label='Similarity between happiness and sadness', bins=50)\n",
    "\n",
    "ax.legend()"
   ]
  },
  {
   "cell_type": "code",
   "execution_count": 203,
   "id": "87798a9a",
   "metadata": {},
   "outputs": [
    {
     "data": {
      "text/plain": [
       "<AxesSubplot: >"
      ]
     },
     "execution_count": 203,
     "metadata": {},
     "output_type": "execute_result"
    },
    {
     "data": {
      "image/png": "[encoded data removed]",
      "text/plain": [
       "<Figure size 640x480 with 1 Axes>"
      ]
     },
     "metadata": {},
     "output_type": "display_data"
    }
   ],
   "source": [
    "pd.Series(negative_score).hist()"
   ]
  },
  {
   "cell_type": "code",
   "execution_count": 204,
   "id": "75714d68",
   "metadata": {},
   "outputs": [
    {
     "data": {
      "text/plain": [
       "<AxesSubplot: >"
      ]
     },
     "execution_count": 204,
     "metadata": {},
     "output_type": "execute_result"
    },
    {
     "data": {
      "image/png": "[encoded data removed]",
      "text/plain": [
       "<Figure size 640x480 with 1 Axes>"
      ]
     },
     "metadata": {},
     "output_type": "display_data"
    }
   ],
   "source": [
    "pd.Series(positive_score).hist()"
   ]
  },
  {
   "cell_type": "code",
   "execution_count": 205,
   "id": "fe8d8fb9",
   "metadata": {},
   "outputs": [
    {
     "data": {
      "text/html": [
       "<div>\n",
       "<style scoped>\n",
       "    .dataframe tbody tr th:only-of-type {\n",
       "        vertical-align: middle;\n",
       "    }\n",
       "\n",
       "    .dataframe tbody tr th {\n",
       "        vertical-align: top;\n",
       "    }\n",
       "\n",
       "    .dataframe thead th {\n",
       "        text-align: right;\n",
       "    }\n",
       "</style>\n",
       "<table border=\"1\" class=\"dataframe\">\n",
       "  <thead>\n",
       "    <tr style=\"text-align: right;\">\n",
       "      <th></th>\n",
       "      <th>label</th>\n",
       "      <th>video_name</th>\n",
       "      <th>embeddings</th>\n",
       "    </tr>\n",
       "  </thead>\n",
       "  <tbody>\n",
       "    <tr>\n",
       "      <th>0</th>\n",
       "      <td>Other</td>\n",
       "      <td>354.mp4</td>\n",
       "      <td>[0.020576216, 0.032058235, 0.006353401, 0.0156...</td>\n",
       "    </tr>\n",
       "    <tr>\n",
       "      <th>1</th>\n",
       "      <td>Neutral</td>\n",
       "      <td>385.mp4</td>\n",
       "      <td>[0.018505577, 0.029559724, 0.01046238, 0.02506...</td>\n",
       "    </tr>\n",
       "    <tr>\n",
       "      <th>2</th>\n",
       "      <td>Sadness</td>\n",
       "      <td>35-30-1920x1080.mp4</td>\n",
       "      <td>[0.024414863, 0.023449918, 0.007398856, 0.0105...</td>\n",
       "    </tr>\n",
       "    <tr>\n",
       "      <th>3</th>\n",
       "      <td>Sadness</td>\n",
       "      <td>9-15-1920x1080.mp4</td>\n",
       "      <td>[0.038196467, 0.035862006, 0.019434832, 0.0264...</td>\n",
       "    </tr>\n",
       "    <tr>\n",
       "      <th>4</th>\n",
       "      <td>Neutral</td>\n",
       "      <td>video1.mp4</td>\n",
       "      <td>[0.0036152618, 0.03415381, 0.015950188, 0.0095...</td>\n",
       "    </tr>\n",
       "    <tr>\n",
       "      <th>...</th>\n",
       "      <td>...</td>\n",
       "      <td>...</td>\n",
       "      <td>...</td>\n",
       "    </tr>\n",
       "    <tr>\n",
       "      <th>10948</th>\n",
       "      <td>Sadness</td>\n",
       "      <td>9-15-1920x1080.mp4</td>\n",
       "      <td>[0.030204969, 0.008421314, 0.029740935, 0.0172...</td>\n",
       "    </tr>\n",
       "    <tr>\n",
       "      <th>10949</th>\n",
       "      <td>Neutral</td>\n",
       "      <td>112-30-640x360.mp4</td>\n",
       "      <td>[0.018451812, 0.02479466, 0.023763169, 0.00869...</td>\n",
       "    </tr>\n",
       "    <tr>\n",
       "      <th>10950</th>\n",
       "      <td>Surprise</td>\n",
       "      <td>video73.mp4</td>\n",
       "      <td>[0.035598535, 0.013850466, 0.014966671, 0.0092...</td>\n",
       "    </tr>\n",
       "    <tr>\n",
       "      <th>10951</th>\n",
       "      <td>Sadness</td>\n",
       "      <td>139-14-720x480.mp4</td>\n",
       "      <td>[0.0340978, 0.026391778, 0.010984744, 0.008984...</td>\n",
       "    </tr>\n",
       "    <tr>\n",
       "      <th>10952</th>\n",
       "      <td>Happiness</td>\n",
       "      <td>87-25-1920x1080.mp4</td>\n",
       "      <td>[0.024429586, 0.02436761, 0.008529969, 0.01930...</td>\n",
       "    </tr>\n",
       "  </tbody>\n",
       "</table>\n",
       "<p>10953 rows × 3 columns</p>\n",
       "</div>"
      ],
      "text/plain": [
       "           label           video_name  \\\n",
       "0          Other              354.mp4   \n",
       "1        Neutral              385.mp4   \n",
       "2        Sadness  35-30-1920x1080.mp4   \n",
       "3        Sadness   9-15-1920x1080.mp4   \n",
       "4        Neutral           video1.mp4   \n",
       "...          ...                  ...   \n",
       "10948    Sadness   9-15-1920x1080.mp4   \n",
       "10949    Neutral   112-30-640x360.mp4   \n",
       "10950   Surprise          video73.mp4   \n",
       "10951    Sadness   139-14-720x480.mp4   \n",
       "10952  Happiness  87-25-1920x1080.mp4   \n",
       "\n",
       "                                              embeddings  \n",
       "0      [0.020576216, 0.032058235, 0.006353401, 0.0156...  \n",
       "1      [0.018505577, 0.029559724, 0.01046238, 0.02506...  \n",
       "2      [0.024414863, 0.023449918, 0.007398856, 0.0105...  \n",
       "3      [0.038196467, 0.035862006, 0.019434832, 0.0264...  \n",
       "4      [0.0036152618, 0.03415381, 0.015950188, 0.0095...  \n",
       "...                                                  ...  \n",
       "10948  [0.030204969, 0.008421314, 0.029740935, 0.0172...  \n",
       "10949  [0.018451812, 0.02479466, 0.023763169, 0.00869...  \n",
       "10950  [0.035598535, 0.013850466, 0.014966671, 0.0092...  \n",
       "10951  [0.0340978, 0.026391778, 0.010984744, 0.008984...  \n",
       "10952  [0.024429586, 0.02436761, 0.008529969, 0.01930...  \n",
       "\n",
       "[10953 rows x 3 columns]"
      ]
     },
     "execution_count": 205,
     "metadata": {},
     "output_type": "execute_result"
    }
   ],
   "source": [
    "df"
   ]
  },
  {
   "cell_type": "code",
   "execution_count": 132,
   "id": "14f09f04",
   "metadata": {},
   "outputs": [
    {
     "data": {
      "text/plain": [
       "0.9428461"
      ]
     },
     "execution_count": 132,
     "metadata": {},
     "output_type": "execute_result"
    }
   ],
   "source": [
    "# happines and sadness\n",
    "df.iloc[-1]['embeddings'] @ df.iloc[-2]['embeddings'].T"
   ]
  },
  {
   "cell_type": "code",
   "execution_count": null,
   "id": "beb2d06f",
   "metadata": {},
   "outputs": [],
   "source": []
  }
 ],
 "metadata": {
  "kernelspec": {
   "display_name": "Python 3 (ipykernel)",
   "language": "python",
   "name": "python3"
  },
  "language_info": {
   "codemirror_mode": {
    "name": "ipython",
    "version": 3
   },
   "file_extension": ".py",
   "mimetype": "text/x-python",
   "name": "python",
   "nbconvert_exporter": "python",
   "pygments_lexer": "ipython3",
   "version": "3.9.12"
  }
 },
 "nbformat": 4,
 "nbformat_minor": 5
}
