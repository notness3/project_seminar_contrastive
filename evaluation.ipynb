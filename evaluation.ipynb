{
 "cells": [
  {
   "cell_type": "code",
   "execution_count": 37,
   "id": "4661a3cb",
   "metadata": {},
   "outputs": [],
   "source": [
    "import pandas as pd\n",
    "\n",
    "import numpy as np"
   ]
  },
  {
   "cell_type": "code",
   "execution_count": 38,
   "id": "31278dd8",
   "metadata": {},
   "outputs": [],
   "source": [
    "df = pd.read_parquet('src/eval.parquet')"
   ]
  },
  {
   "cell_type": "code",
   "execution_count": 42,
   "id": "3311c7e1",
   "metadata": {},
   "outputs": [
    {
     "data": {
      "text/html": [
       "<div>\n",
       "<style scoped>\n",
       "    .dataframe tbody tr th:only-of-type {\n",
       "        vertical-align: middle;\n",
       "    }\n",
       "\n",
       "    .dataframe tbody tr th {\n",
       "        vertical-align: top;\n",
       "    }\n",
       "\n",
       "    .dataframe thead th {\n",
       "        text-align: right;\n",
       "    }\n",
       "</style>\n",
       "<table border=\"1\" class=\"dataframe\">\n",
       "  <thead>\n",
       "    <tr style=\"text-align: right;\">\n",
       "      <th></th>\n",
       "      <th>label</th>\n",
       "      <th>video_name</th>\n",
       "      <th>embeddings</th>\n",
       "    </tr>\n",
       "  </thead>\n",
       "  <tbody>\n",
       "    <tr>\n",
       "      <th>0</th>\n",
       "      <td>7</td>\n",
       "      <td>354.mp4</td>\n",
       "      <td>[0.022952795, 0.0318711, 0.013222513, 0.012283...</td>\n",
       "    </tr>\n",
       "    <tr>\n",
       "      <th>1</th>\n",
       "      <td>0</td>\n",
       "      <td>385.mp4</td>\n",
       "      <td>[0.0219932, 0.024311809, 0.013341469, 0.017193...</td>\n",
       "    </tr>\n",
       "    <tr>\n",
       "      <th>2</th>\n",
       "      <td>5</td>\n",
       "      <td>35-30-1920x1080.mp4</td>\n",
       "      <td>[0.023765814, 0.02109409, 0.010337546, 0.00710...</td>\n",
       "    </tr>\n",
       "    <tr>\n",
       "      <th>3</th>\n",
       "      <td>5</td>\n",
       "      <td>9-15-1920x1080.mp4</td>\n",
       "      <td>[0.041213766, 0.033971775, 0.022762295, 0.0290...</td>\n",
       "    </tr>\n",
       "    <tr>\n",
       "      <th>4</th>\n",
       "      <td>0</td>\n",
       "      <td>video1.mp4</td>\n",
       "      <td>[0.0037426758, 0.03160652, 0.016981002, 0.0090...</td>\n",
       "    </tr>\n",
       "    <tr>\n",
       "      <th>...</th>\n",
       "      <td>...</td>\n",
       "      <td>...</td>\n",
       "      <td>...</td>\n",
       "    </tr>\n",
       "    <tr>\n",
       "      <th>10948</th>\n",
       "      <td>5</td>\n",
       "      <td>9-15-1920x1080.mp4</td>\n",
       "      <td>[0.028071173, 0.022289196, 0.033133704, 0.0144...</td>\n",
       "    </tr>\n",
       "    <tr>\n",
       "      <th>10949</th>\n",
       "      <td>0</td>\n",
       "      <td>112-30-640x360.mp4</td>\n",
       "      <td>[0.017834289, 0.035219584, 0.025632882, 0.0127...</td>\n",
       "    </tr>\n",
       "    <tr>\n",
       "      <th>10950</th>\n",
       "      <td>6</td>\n",
       "      <td>video73.mp4</td>\n",
       "      <td>[0.03225162, 0.01354498, 0.017428184, 0.010039...</td>\n",
       "    </tr>\n",
       "    <tr>\n",
       "      <th>10951</th>\n",
       "      <td>5</td>\n",
       "      <td>139-14-720x480.mp4</td>\n",
       "      <td>[0.023991225, 0.026364977, 0.015291575, 0.0138...</td>\n",
       "    </tr>\n",
       "    <tr>\n",
       "      <th>10952</th>\n",
       "      <td>4</td>\n",
       "      <td>87-25-1920x1080.mp4</td>\n",
       "      <td>[0.029293226, 0.028202955, 0.009908842, 0.0254...</td>\n",
       "    </tr>\n",
       "  </tbody>\n",
       "</table>\n",
       "<p>10953 rows × 3 columns</p>\n",
       "</div>"
      ],
      "text/plain": [
       "      label           video_name  \\\n",
       "0         7              354.mp4   \n",
       "1         0              385.mp4   \n",
       "2         5  35-30-1920x1080.mp4   \n",
       "3         5   9-15-1920x1080.mp4   \n",
       "4         0           video1.mp4   \n",
       "...     ...                  ...   \n",
       "10948     5   9-15-1920x1080.mp4   \n",
       "10949     0   112-30-640x360.mp4   \n",
       "10950     6          video73.mp4   \n",
       "10951     5   139-14-720x480.mp4   \n",
       "10952     4  87-25-1920x1080.mp4   \n",
       "\n",
       "                                              embeddings  \n",
       "0      [0.022952795, 0.0318711, 0.013222513, 0.012283...  \n",
       "1      [0.0219932, 0.024311809, 0.013341469, 0.017193...  \n",
       "2      [0.023765814, 0.02109409, 0.010337546, 0.00710...  \n",
       "3      [0.041213766, 0.033971775, 0.022762295, 0.0290...  \n",
       "4      [0.0037426758, 0.03160652, 0.016981002, 0.0090...  \n",
       "...                                                  ...  \n",
       "10948  [0.028071173, 0.022289196, 0.033133704, 0.0144...  \n",
       "10949  [0.017834289, 0.035219584, 0.025632882, 0.0127...  \n",
       "10950  [0.03225162, 0.01354498, 0.017428184, 0.010039...  \n",
       "10951  [0.023991225, 0.026364977, 0.015291575, 0.0138...  \n",
       "10952  [0.029293226, 0.028202955, 0.009908842, 0.0254...  \n",
       "\n",
       "[10953 rows x 3 columns]"
      ]
     },
     "execution_count": 42,
     "metadata": {},
     "output_type": "execute_result"
    }
   ],
   "source": [
    "df"
   ]
  },
  {
   "cell_type": "code",
   "execution_count": 61,
   "id": "05c9dc66",
   "metadata": {},
   "outputs": [],
   "source": [
    "df['label'] = df['label'].astype(int)"
   ]
  },
  {
   "cell_type": "code",
   "execution_count": 49,
   "id": "f3790f3d",
   "metadata": {},
   "outputs": [
    {
     "data": {
      "text/html": [
       "<div>\n",
       "<style scoped>\n",
       "    .dataframe tbody tr th:only-of-type {\n",
       "        vertical-align: middle;\n",
       "    }\n",
       "\n",
       "    .dataframe tbody tr th {\n",
       "        vertical-align: top;\n",
       "    }\n",
       "\n",
       "    .dataframe thead th {\n",
       "        text-align: right;\n",
       "    }\n",
       "</style>\n",
       "<table border=\"1\" class=\"dataframe\">\n",
       "  <thead>\n",
       "    <tr style=\"text-align: right;\">\n",
       "      <th></th>\n",
       "      <th>embeddings</th>\n",
       "    </tr>\n",
       "    <tr>\n",
       "      <th>label</th>\n",
       "      <th></th>\n",
       "    </tr>\n",
       "  </thead>\n",
       "  <tbody>\n",
       "    <tr>\n",
       "      <th>0</th>\n",
       "      <td>2388</td>\n",
       "    </tr>\n",
       "    <tr>\n",
       "      <th>1</th>\n",
       "      <td>117</td>\n",
       "    </tr>\n",
       "    <tr>\n",
       "      <th>2</th>\n",
       "      <td>63</td>\n",
       "    </tr>\n",
       "    <tr>\n",
       "      <th>3</th>\n",
       "      <td>171</td>\n",
       "    </tr>\n",
       "    <tr>\n",
       "      <th>4</th>\n",
       "      <td>1497</td>\n",
       "    </tr>\n",
       "    <tr>\n",
       "      <th>5</th>\n",
       "      <td>4473</td>\n",
       "    </tr>\n",
       "    <tr>\n",
       "      <th>6</th>\n",
       "      <td>1340</td>\n",
       "    </tr>\n",
       "    <tr>\n",
       "      <th>7</th>\n",
       "      <td>904</td>\n",
       "    </tr>\n",
       "  </tbody>\n",
       "</table>\n",
       "</div>"
      ],
      "text/plain": [
       "       embeddings\n",
       "label            \n",
       "0            2388\n",
       "1             117\n",
       "2              63\n",
       "3             171\n",
       "4            1497\n",
       "5            4473\n",
       "6            1340\n",
       "7             904"
      ]
     },
     "execution_count": 49,
     "metadata": {},
     "output_type": "execute_result"
    }
   ],
   "source": [
    "df.groupby('label')['embeddings'].count().to_frame()"
   ]
  },
  {
   "cell_type": "code",
   "execution_count": 47,
   "id": "814584a5",
   "metadata": {},
   "outputs": [
    {
     "data": {
      "text/html": [
       "<div>\n",
       "<style scoped>\n",
       "    .dataframe tbody tr th:only-of-type {\n",
       "        vertical-align: middle;\n",
       "    }\n",
       "\n",
       "    .dataframe tbody tr th {\n",
       "        vertical-align: top;\n",
       "    }\n",
       "\n",
       "    .dataframe thead th {\n",
       "        text-align: right;\n",
       "    }\n",
       "</style>\n",
       "<table border=\"1\" class=\"dataframe\">\n",
       "  <thead>\n",
       "    <tr style=\"text-align: right;\">\n",
       "      <th></th>\n",
       "      <th>embeddings</th>\n",
       "    </tr>\n",
       "    <tr>\n",
       "      <th>video_name</th>\n",
       "      <th></th>\n",
       "    </tr>\n",
       "  </thead>\n",
       "  <tbody>\n",
       "    <tr>\n",
       "      <th>112-30-640x360.mp4</th>\n",
       "      <td>492</td>\n",
       "    </tr>\n",
       "    <tr>\n",
       "      <th>13-30-1920x1080.mp4</th>\n",
       "      <td>738</td>\n",
       "    </tr>\n",
       "    <tr>\n",
       "      <th>139-14-720x480.mp4</th>\n",
       "      <td>960</td>\n",
       "    </tr>\n",
       "    <tr>\n",
       "      <th>25-25-600x480.mp4</th>\n",
       "      <td>454</td>\n",
       "    </tr>\n",
       "    <tr>\n",
       "      <th>27-60-1280x720.mp4</th>\n",
       "      <td>40</td>\n",
       "    </tr>\n",
       "    <tr>\n",
       "      <th>28-30-1280x720-1.mp4</th>\n",
       "      <td>26</td>\n",
       "    </tr>\n",
       "    <tr>\n",
       "      <th>35-30-1920x1080.mp4</th>\n",
       "      <td>973</td>\n",
       "    </tr>\n",
       "    <tr>\n",
       "      <th>354.mp4</th>\n",
       "      <td>396</td>\n",
       "    </tr>\n",
       "    <tr>\n",
       "      <th>365.mp4</th>\n",
       "      <td>71</td>\n",
       "    </tr>\n",
       "    <tr>\n",
       "      <th>369.mp4</th>\n",
       "      <td>141</td>\n",
       "    </tr>\n",
       "    <tr>\n",
       "      <th>381.mp4</th>\n",
       "      <td>106</td>\n",
       "    </tr>\n",
       "    <tr>\n",
       "      <th>384.mp4</th>\n",
       "      <td>200</td>\n",
       "    </tr>\n",
       "    <tr>\n",
       "      <th>385.mp4</th>\n",
       "      <td>152</td>\n",
       "    </tr>\n",
       "    <tr>\n",
       "      <th>387.mp4</th>\n",
       "      <td>85</td>\n",
       "    </tr>\n",
       "    <tr>\n",
       "      <th>388.mp4</th>\n",
       "      <td>176</td>\n",
       "    </tr>\n",
       "    <tr>\n",
       "      <th>429.mp4</th>\n",
       "      <td>136</td>\n",
       "    </tr>\n",
       "    <tr>\n",
       "      <th>439.mp4</th>\n",
       "      <td>166</td>\n",
       "    </tr>\n",
       "    <tr>\n",
       "      <th>447.mp4</th>\n",
       "      <td>158</td>\n",
       "    </tr>\n",
       "    <tr>\n",
       "      <th>57-25-426x240.mp4</th>\n",
       "      <td>30</td>\n",
       "    </tr>\n",
       "    <tr>\n",
       "      <th>87-25-1920x1080.mp4</th>\n",
       "      <td>179</td>\n",
       "    </tr>\n",
       "    <tr>\n",
       "      <th>9-15-1920x1080.mp4</th>\n",
       "      <td>3397</td>\n",
       "    </tr>\n",
       "    <tr>\n",
       "      <th>video1.mp4</th>\n",
       "      <td>372</td>\n",
       "    </tr>\n",
       "    <tr>\n",
       "      <th>video2.mp4</th>\n",
       "      <td>51</td>\n",
       "    </tr>\n",
       "    <tr>\n",
       "      <th>video34.mp4</th>\n",
       "      <td>879</td>\n",
       "    </tr>\n",
       "    <tr>\n",
       "      <th>video73.mp4</th>\n",
       "      <td>575</td>\n",
       "    </tr>\n",
       "  </tbody>\n",
       "</table>\n",
       "</div>"
      ],
      "text/plain": [
       "                      embeddings\n",
       "video_name                      \n",
       "112-30-640x360.mp4           492\n",
       "13-30-1920x1080.mp4          738\n",
       "139-14-720x480.mp4           960\n",
       "25-25-600x480.mp4            454\n",
       "27-60-1280x720.mp4            40\n",
       "28-30-1280x720-1.mp4          26\n",
       "35-30-1920x1080.mp4          973\n",
       "354.mp4                      396\n",
       "365.mp4                       71\n",
       "369.mp4                      141\n",
       "381.mp4                      106\n",
       "384.mp4                      200\n",
       "385.mp4                      152\n",
       "387.mp4                       85\n",
       "388.mp4                      176\n",
       "429.mp4                      136\n",
       "439.mp4                      166\n",
       "447.mp4                      158\n",
       "57-25-426x240.mp4             30\n",
       "87-25-1920x1080.mp4          179\n",
       "9-15-1920x1080.mp4          3397\n",
       "video1.mp4                   372\n",
       "video2.mp4                    51\n",
       "video34.mp4                  879\n",
       "video73.mp4                  575"
      ]
     },
     "execution_count": 47,
     "metadata": {},
     "output_type": "execute_result"
    }
   ],
   "source": [
    "df.groupby('video_name')['embeddings'].count().to_frame()"
   ]
  },
  {
   "cell_type": "code",
   "execution_count": 50,
   "id": "03a1008d",
   "metadata": {},
   "outputs": [],
   "source": [
    "classes = {'Neutral': 0, 'Anger': 1, 'Disgust': 2, 'Fear': 3, 'Happiness': 4, 'Sadness': 5, 'Surprise': 6, 'Other': 7}"
   ]
  },
  {
   "cell_type": "code",
   "execution_count": 52,
   "id": "b88f829c",
   "metadata": {},
   "outputs": [],
   "source": [
    "classes_encoder = {value: key for key, value in classes.items()}"
   ]
  },
  {
   "cell_type": "code",
   "execution_count": 54,
   "id": "19860b45",
   "metadata": {},
   "outputs": [
    {
     "data": {
      "text/plain": [
       "{0: 'Neutral',\n",
       " 1: 'Anger',\n",
       " 2: 'Disgust',\n",
       " 3: 'Fear',\n",
       " 4: 'Happiness',\n",
       " 5: 'Sadness',\n",
       " 6: 'Surprise',\n",
       " 7: 'Other'}"
      ]
     },
     "execution_count": 54,
     "metadata": {},
     "output_type": "execute_result"
    }
   ],
   "source": [
    "classes_encoder"
   ]
  },
  {
   "cell_type": "code",
   "execution_count": 63,
   "id": "f2f587a3",
   "metadata": {},
   "outputs": [],
   "source": [
    "df['label'] = df['label'].replace(classes_encoder)"
   ]
  },
  {
   "cell_type": "code",
   "execution_count": 90,
   "id": "549ff297",
   "metadata": {},
   "outputs": [],
   "source": [
    "def compute_similarity(df: pd.DataFrame):\n",
    "    a = np.array(df['embeddings'].to_list())\n",
    "    result_matrix = a @ a.T\n",
    "    \n",
    "    out = np.ones(result_matrix.shape,dtype=bool)\n",
    "    np.fill_diagonal(out,0)\n",
    "    \n",
    "    return result_matrix[out].mean()"
   ]
  },
  {
   "cell_type": "code",
   "execution_count": 91,
   "id": "de1367bf",
   "metadata": {},
   "outputs": [],
   "source": [
    "metric_dict = dict()\n",
    "\n",
    "for name, group in df.groupby('label'):\n",
    "    metric_dict[name] = compute_similarity(group)"
   ]
  },
  {
   "cell_type": "code",
   "execution_count": 93,
   "id": "6b7c35e9",
   "metadata": {},
   "outputs": [
    {
     "data": {
      "text/plain": [
       "{'Anger': 0.95489836,\n",
       " 'Disgust': 0.961978,\n",
       " 'Fear': 0.9444179,\n",
       " 'Happiness': 0.9600662,\n",
       " 'Neutral': 0.9497977,\n",
       " 'Other': 0.9599784,\n",
       " 'Sadness': 0.9546495,\n",
       " 'Surprise': 0.95705706}"
      ]
     },
     "execution_count": 93,
     "metadata": {},
     "output_type": "execute_result"
    }
   ],
   "source": [
    "# class similarity\n",
    "metric_dict"
   ]
  },
  {
   "cell_type": "code",
   "execution_count": 94,
   "id": "cae71836",
   "metadata": {},
   "outputs": [],
   "source": [
    "metric_video_dict = dict()\n",
    "\n",
    "for name, group in df.groupby('video_name'):\n",
    "    metric_video_dict[name] = compute_similarity(group)"
   ]
  },
  {
   "cell_type": "code",
   "execution_count": 97,
   "id": "a88a161e",
   "metadata": {},
   "outputs": [
    {
     "data": {
      "text/plain": [
       "{'112-30-640x360.mp4': 0.9523227,\n",
       " '13-30-1920x1080.mp4': 0.96575624,\n",
       " '139-14-720x480.mp4': 0.9562844,\n",
       " '25-25-600x480.mp4': 0.964172,\n",
       " '27-60-1280x720.mp4': 0.98131746,\n",
       " '28-30-1280x720-1.mp4': 0.9790491,\n",
       " '35-30-1920x1080.mp4': 0.9775921,\n",
       " '354.mp4': 0.97760427,\n",
       " '365.mp4': 0.97394997,\n",
       " '369.mp4': 0.98792684,\n",
       " '381.mp4': 0.9712759,\n",
       " '384.mp4': 0.9641257,\n",
       " '385.mp4': 0.988396,\n",
       " '387.mp4': 0.97278637,\n",
       " '388.mp4': 0.9637534,\n",
       " '429.mp4': 0.9800573,\n",
       " '439.mp4': 0.9745687,\n",
       " '447.mp4': 0.97656125,\n",
       " '57-25-426x240.mp4': 0.9919651,\n",
       " '87-25-1920x1080.mp4': 0.982033,\n",
       " '9-15-1920x1080.mp4': 0.9535292,\n",
       " 'video1.mp4': 0.9574089,\n",
       " 'video2.mp4': 0.9625356,\n",
       " 'video34.mp4': 0.9661621,\n",
       " 'video73.mp4': 0.97084695}"
      ]
     },
     "execution_count": 97,
     "metadata": {},
     "output_type": "execute_result"
    }
   ],
   "source": [
    "# video similarity\n",
    "metric_video_dict"
   ]
  },
  {
   "cell_type": "code",
   "execution_count": 98,
   "id": "582e4afe",
   "metadata": {},
   "outputs": [
    {
     "data": {
      "text/plain": [
       "0.95223886"
      ]
     },
     "execution_count": 98,
     "metadata": {},
     "output_type": "execute_result"
    }
   ],
   "source": [
    "# whole similarity\n",
    "compute_similarity(df)"
   ]
  },
  {
   "cell_type": "code",
   "execution_count": 106,
   "id": "232dd93e",
   "metadata": {},
   "outputs": [
    {
     "data": {
      "text/plain": [
       "video_name\n",
       "9-15-1920x1080.mp4      63\n",
       "28-30-1280x720-1.mp4    25\n",
       "video73.mp4             17\n",
       "369.mp4                 10\n",
       "video34.mp4              1\n",
       "365.mp4                  1\n",
       "Name: count, dtype: int64"
      ]
     },
     "execution_count": 106,
     "metadata": {},
     "output_type": "execute_result"
    }
   ],
   "source": [
    "df[df['label']=='Anger']['video_name'].value_counts()"
   ]
  },
  {
   "cell_type": "code",
   "execution_count": 167,
   "id": "23e1b6a2",
   "metadata": {},
   "outputs": [],
   "source": [
    "neutral = df[(df['label']=='Happiness')]['embeddings'].to_list()"
   ]
  },
  {
   "cell_type": "code",
   "execution_count": 174,
   "id": "efe10c6f",
   "metadata": {},
   "outputs": [],
   "source": [
    "anger = df[(df['label']=='Sadness')]['embeddings'].to_list()"
   ]
  },
  {
   "cell_type": "code",
   "execution_count": 175,
   "id": "a8808f79",
   "metadata": {},
   "outputs": [],
   "source": [
    "#similarity between opposite emotions (neutral and anger)\n",
    "negative_score = (np.array(neutral) @ np.array(anger).T).reshape(len(neutral) * len(anger))"
   ]
  },
  {
   "cell_type": "code",
   "execution_count": 176,
   "id": "05580530",
   "metadata": {},
   "outputs": [],
   "source": [
    "def compute_similarity_vector(df: pd.DataFrame):\n",
    "    a = np.array(df['embeddings'].to_list())\n",
    "    result_matrix = a @ a.T\n",
    "    \n",
    "    out = np.ones(result_matrix.shape,dtype=bool)\n",
    "    np.fill_diagonal(out,0)\n",
    "    \n",
    "    return result_matrix[out]"
   ]
  },
  {
   "cell_type": "code",
   "execution_count": 177,
   "id": "0ff493cc",
   "metadata": {},
   "outputs": [],
   "source": [
    "positive_score = compute_similarity_vector(df[(df['label']=='Happiness')])"
   ]
  },
  {
   "cell_type": "code",
   "execution_count": 180,
   "id": "c2543ac3",
   "metadata": {},
   "outputs": [
    {
     "data": {
      "text/plain": [
       "<matplotlib.legend.Legend at 0x288dc8700>"
      ]
     },
     "execution_count": 180,
     "metadata": {},
     "output_type": "execute_result"
    },
    {
     "data": {
      "image/png": "[encoded data removed]",
      "text/plain": [
       "<Figure size 640x480 with 1 Axes>"
      ]
     },
     "metadata": {},
     "output_type": "display_data"
    }
   ],
   "source": [
    "import matplotlib.pyplot as plt\n",
    "\n",
    "fig = plt.figure()\n",
    "ax = fig.add_subplot(111)\n",
    "_ = ax.hist(positive_score[:len(negative_score)], label='Similarity between happiness class', bins=50)\n",
    "_ = ax.hist(negative_score[:len(positive_score)], color='red', alpha=.3, label='Similarity between happiness and sadness', bins=50)\n",
    "\n",
    "ax.legend()"
   ]
  },
  {
   "cell_type": "code",
   "execution_count": 154,
   "id": "916cb1b3",
   "metadata": {},
   "outputs": [
    {
     "data": {
      "text/plain": [
       "<AxesSubplot: >"
      ]
     },
     "execution_count": 154,
     "metadata": {},
     "output_type": "execute_result"
    },
    {
     "data": {
      "image/png": "[encoded data removed]",
      "text/plain": [
       "<Figure size 640x480 with 1 Axes>"
      ]
     },
     "metadata": {},
     "output_type": "display_data"
    }
   ],
   "source": [
    "pd.Series(negative_score).hist()"
   ]
  },
  {
   "cell_type": "code",
   "execution_count": 159,
   "id": "9e5e81ee",
   "metadata": {},
   "outputs": [
    {
     "data": {
      "text/plain": [
       "<AxesSubplot: >"
      ]
     },
     "execution_count": 159,
     "metadata": {},
     "output_type": "execute_result"
    },
    {
     "data": {
      "image/png": "[encoded data removed]",
      "text/plain": [
       "<Figure size 640x480 with 1 Axes>"
      ]
     },
     "metadata": {},
     "output_type": "display_data"
    }
   ],
   "source": [
    "pd.Series(positive_score).hist()"
   ]
  },
  {
   "cell_type": "code",
   "execution_count": 128,
   "id": "1bb5f1cd",
   "metadata": {},
   "outputs": [
    {
     "data": {
      "text/html": [
       "<div>\n",
       "<style scoped>\n",
       "    .dataframe tbody tr th:only-of-type {\n",
       "        vertical-align: middle;\n",
       "    }\n",
       "\n",
       "    .dataframe tbody tr th {\n",
       "        vertical-align: top;\n",
       "    }\n",
       "\n",
       "    .dataframe thead th {\n",
       "        text-align: right;\n",
       "    }\n",
       "</style>\n",
       "<table border=\"1\" class=\"dataframe\">\n",
       "  <thead>\n",
       "    <tr style=\"text-align: right;\">\n",
       "      <th></th>\n",
       "      <th>label</th>\n",
       "      <th>video_name</th>\n",
       "      <th>embeddings</th>\n",
       "    </tr>\n",
       "  </thead>\n",
       "  <tbody>\n",
       "    <tr>\n",
       "      <th>0</th>\n",
       "      <td>Other</td>\n",
       "      <td>354.mp4</td>\n",
       "      <td>[0.022952795, 0.0318711, 0.013222513, 0.012283...</td>\n",
       "    </tr>\n",
       "    <tr>\n",
       "      <th>1</th>\n",
       "      <td>Neutral</td>\n",
       "      <td>385.mp4</td>\n",
       "      <td>[0.0219932, 0.024311809, 0.013341469, 0.017193...</td>\n",
       "    </tr>\n",
       "    <tr>\n",
       "      <th>2</th>\n",
       "      <td>Sadness</td>\n",
       "      <td>35-30-1920x1080.mp4</td>\n",
       "      <td>[0.023765814, 0.02109409, 0.010337546, 0.00710...</td>\n",
       "    </tr>\n",
       "    <tr>\n",
       "      <th>3</th>\n",
       "      <td>Sadness</td>\n",
       "      <td>9-15-1920x1080.mp4</td>\n",
       "      <td>[0.041213766, 0.033971775, 0.022762295, 0.0290...</td>\n",
       "    </tr>\n",
       "    <tr>\n",
       "      <th>4</th>\n",
       "      <td>Neutral</td>\n",
       "      <td>video1.mp4</td>\n",
       "      <td>[0.0037426758, 0.03160652, 0.016981002, 0.0090...</td>\n",
       "    </tr>\n",
       "    <tr>\n",
       "      <th>...</th>\n",
       "      <td>...</td>\n",
       "      <td>...</td>\n",
       "      <td>...</td>\n",
       "    </tr>\n",
       "    <tr>\n",
       "      <th>10948</th>\n",
       "      <td>Sadness</td>\n",
       "      <td>9-15-1920x1080.mp4</td>\n",
       "      <td>[0.028071173, 0.022289196, 0.033133704, 0.0144...</td>\n",
       "    </tr>\n",
       "    <tr>\n",
       "      <th>10949</th>\n",
       "      <td>Neutral</td>\n",
       "      <td>112-30-640x360.mp4</td>\n",
       "      <td>[0.017834289, 0.035219584, 0.025632882, 0.0127...</td>\n",
       "    </tr>\n",
       "    <tr>\n",
       "      <th>10950</th>\n",
       "      <td>Surprise</td>\n",
       "      <td>video73.mp4</td>\n",
       "      <td>[0.03225162, 0.01354498, 0.017428184, 0.010039...</td>\n",
       "    </tr>\n",
       "    <tr>\n",
       "      <th>10951</th>\n",
       "      <td>Sadness</td>\n",
       "      <td>139-14-720x480.mp4</td>\n",
       "      <td>[0.023991225, 0.026364977, 0.015291575, 0.0138...</td>\n",
       "    </tr>\n",
       "    <tr>\n",
       "      <th>10952</th>\n",
       "      <td>Happiness</td>\n",
       "      <td>87-25-1920x1080.mp4</td>\n",
       "      <td>[0.029293226, 0.028202955, 0.009908842, 0.0254...</td>\n",
       "    </tr>\n",
       "  </tbody>\n",
       "</table>\n",
       "<p>10953 rows × 3 columns</p>\n",
       "</div>"
      ],
      "text/plain": [
       "           label           video_name  \\\n",
       "0          Other              354.mp4   \n",
       "1        Neutral              385.mp4   \n",
       "2        Sadness  35-30-1920x1080.mp4   \n",
       "3        Sadness   9-15-1920x1080.mp4   \n",
       "4        Neutral           video1.mp4   \n",
       "...          ...                  ...   \n",
       "10948    Sadness   9-15-1920x1080.mp4   \n",
       "10949    Neutral   112-30-640x360.mp4   \n",
       "10950   Surprise          video73.mp4   \n",
       "10951    Sadness   139-14-720x480.mp4   \n",
       "10952  Happiness  87-25-1920x1080.mp4   \n",
       "\n",
       "                                              embeddings  \n",
       "0      [0.022952795, 0.0318711, 0.013222513, 0.012283...  \n",
       "1      [0.0219932, 0.024311809, 0.013341469, 0.017193...  \n",
       "2      [0.023765814, 0.02109409, 0.010337546, 0.00710...  \n",
       "3      [0.041213766, 0.033971775, 0.022762295, 0.0290...  \n",
       "4      [0.0037426758, 0.03160652, 0.016981002, 0.0090...  \n",
       "...                                                  ...  \n",
       "10948  [0.028071173, 0.022289196, 0.033133704, 0.0144...  \n",
       "10949  [0.017834289, 0.035219584, 0.025632882, 0.0127...  \n",
       "10950  [0.03225162, 0.01354498, 0.017428184, 0.010039...  \n",
       "10951  [0.023991225, 0.026364977, 0.015291575, 0.0138...  \n",
       "10952  [0.029293226, 0.028202955, 0.009908842, 0.0254...  \n",
       "\n",
       "[10953 rows x 3 columns]"
      ]
     },
     "execution_count": 128,
     "metadata": {},
     "output_type": "execute_result"
    }
   ],
   "source": [
    "df"
   ]
  },
  {
   "cell_type": "code",
   "execution_count": 132,
   "id": "ebf4d96f",
   "metadata": {},
   "outputs": [
    {
     "data": {
      "text/plain": [
       "0.9428461"
      ]
     },
     "execution_count": 132,
     "metadata": {},
     "output_type": "execute_result"
    }
   ],
   "source": [
    "# happines and sadness\n",
    "df.iloc[-1]['embeddings'] @ df.iloc[-2]['embeddings'].T"
   ]
  },
  {
   "cell_type": "code",
   "execution_count": null,
   "id": "efef79aa",
   "metadata": {},
   "outputs": [],
   "source": []
  }
 ],
 "metadata": {
  "kernelspec": {
   "display_name": "Python 3 (ipykernel)",
   "language": "python",
   "name": "python3"
  },
  "language_info": {
   "codemirror_mode": {
    "name": "ipython",
    "version": 3
   },
   "file_extension": ".py",
   "mimetype": "text/x-python",
   "name": "python",
   "nbconvert_exporter": "python",
   "pygments_lexer": "ipython3",
   "version": "3.9.12"
  }
 },
 "nbformat": 4,
 "nbformat_minor": 5
}
